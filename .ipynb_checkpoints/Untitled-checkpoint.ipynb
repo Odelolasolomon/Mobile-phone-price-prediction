{
 "cells": [
  {
   "cell_type": "markdown",
   "id": "d7b84cf4",
   "metadata": {},
   "source": [
    "## Table of contents\n",
    "- [1 - Problem Statement](#1)\n",
    "- [2 - What spells success for this project](#2)\n",
    "- [3 - Feature Engineering/Data Preprocessing](#3)\n",
    "- [4 - ML Modeling](#4)\n",
    "- [5 - Hyper parameter optimization](#5)\n",
    "- [6 - Summary](#6)\n",
    "- [7 - Conclusion](#7)\n",
    "- [8 - Recommendations](#8)\n",
    "- [9 - Limitations](#9)\n",
    "- [10 - References](#10)"
   ]
  },
  {
   "cell_type": "markdown",
   "id": "9370d377",
   "metadata": {},
   "source": [
    "<a name='1'></a>\n",
    "## Problem Statement\n",
    "**This project aims at predicting the prices of several mobile phones.**\n",
    "> This comprehensive dataset comprises information about 8277 mobile phones, meticulously gathered from the authoritative source, PhoneDB. The dataset encompasses a vast array of mobile phone specifications, ranging from essential details like brand and model to intricate technical attributes such as CPU clock, camera specifications, battery capacity, and more. This dataset is a treasure trove for mobile technology enthusiasts, researchers, and data analysts seeking to explore and analyze the evolution of mobile devices over time.\n",
    "\n",
    "**Description of variables**\n",
    "\n",
    "`Brand: The brand name of the mobile phone.\n",
    "Model: The model name or number of the mobile phone.\n",
    "Released: The date when the phone was released to the market.\n",
    "Announced: The date when the phone was officially announced.\n",
    "Hardware Designer: The company responsible for designing the phone's hardware.\n",
    "Manufacturer: The manufacturer of the mobile phone.\n",
    "General Extras: Miscellaneous additional features of the phone.\n",
    "Width, Height, Depth: The physical dimensions of the phone.\n",
    "Dimensions: Comprehensive dimensions of the phone.\n",
    "Mass: The weight of the phone.\n",
    "Platform: The platform on which the phone operates.\n",
    "Operating System: The operating system running on the phone.\n",
    "CPU Clock: The clock speed of the phone's CPU.\n",
    "CPU: The Central Processing Unit of the phone.\n",
    "RAM Type: The type of Random Access Memory used.\n",
    "RAM Capacity : RAM capacity converted for uniformity.\n",
    "Non-volatile Memory Interface: Interface for non-volatile memory.\n",
    "Display Diagonal: The diagonal size of the phone's display.\n",
    "Resolution: The display resolution in pixels.\n",
    "Pixel Density: Pixels per inch on the display.\n",
    "Display Area Utilization: Proportion of the device front used by display.\n",
    "Display Type: The type of display technology used.\n",
    "Display Refresh Rate: The refresh rate of the display.\n",
    "Scratch Resistant Screen: Presence of scratch-resistant screen.\n",
    "Graphical Controller: Graphics processing unit details.\n",
    "GPU Clock: Clock speed of the GPU.\n",
    "Expansion Interfaces: Interfaces for expansion.\n",
    "USB Services: USB services provided.\n",
    "USB Connector: Type of USB connector.\n",
    "Max. Charging Power: Maximum charging power supported.\n",
    "Bluetooth: Bluetooth version supported.\n",
    "Camera Placement: Placement of the phone's camera.\n",
    "Camera Image Sensor: Image sensor used in the camera.\n",
    "Image Sensor Pixel Size: Size of individual image sensor pixels.\n",
    "Aperture (W): Aperture width for improved photography.\n",
    "Zoom: Zoom capabilities of the camera.\n",
    "Video Recording: Video recording specifications.\n",
    "Camera Extra Functions: Additional functions of the camera.\n",
    "Secondary Video Recording: Specifications for secondary video recording.\n",
    "Nominal Battery Capacity: The advertised battery capacity.\n",
    "Estimated Battery Life: Approximate battery life estimation.\n",
    "Market Countries Countries where the phone is available.\n",
    "Market Regions: Regions where the phone is available.\n",
    "Price: Price of the mobile phone.\n",
    "Memory Capacity: Capacity of the device's memory.\n",
    "Cam1_mp: Primary camera resolution in megapixels.\n",
    "Cam2_mp: Secondary camera resolution in megapixels.`"
   ]
  },
  {
   "cell_type": "markdown",
   "id": "15120575",
   "metadata": {},
   "source": [
    "<a name='2'></a>\n",
    "## What spells success for this project\n",
    " at the end of the project, I will have done justice to the following \n",
    " >\n",
    "- Analyzing trends in mobile phone specifications over time.\n",
    "- Identifying correlations between specifications and market success.\n",
    "- Comparing different brands and models based on technical attributes.\n",
    "- Predicting mobile phone prices based on specifications."
   ]
  },
  {
   "cell_type": "markdown",
   "id": "749437bd",
   "metadata": {},
   "source": [
    "<a name='3'></a>\n",
    "## Feature engineering/data preprocessing"
   ]
  },
  {
   "cell_type": "code",
   "execution_count": 4,
   "id": "624b50ec",
   "metadata": {},
   "outputs": [],
   "source": [
    "import pandas as pd \n",
    "import numpy as np\n",
    "import seaborn as sns\n",
    "%matplotlib inline\n",
    "from sklearn.linear_model import LinearRegression\n",
    "from sklearn.ensemble import RandomForestRegressor\n",
    "from sklearn.tree import DecisionTreeRegressor\n",
    "from xgboost import  XGBRFRegressor\n",
    "from sklearn.metrics import mean_squared_error\n",
    "from sklearn.preprocessing import StandardScaler,MinMaxScaler\n",
    "from warnings import filterwarnings"
   ]
  },
  {
   "cell_type": "code",
   "execution_count": 6,
   "id": "ed170c55",
   "metadata": {},
   "outputs": [
    {
     "data": {
      "text/html": [
       "<div>\n",
       "<style scoped>\n",
       "    .dataframe tbody tr th:only-of-type {\n",
       "        vertical-align: middle;\n",
       "    }\n",
       "\n",
       "    .dataframe tbody tr th {\n",
       "        vertical-align: top;\n",
       "    }\n",
       "\n",
       "    .dataframe thead th {\n",
       "        text-align: right;\n",
       "    }\n",
       "</style>\n",
       "<table border=\"1\" class=\"dataframe\">\n",
       "  <thead>\n",
       "    <tr style=\"text-align: right;\">\n",
       "      <th></th>\n",
       "      <th>Unnamed: 0</th>\n",
       "      <th>Brand</th>\n",
       "      <th>Model</th>\n",
       "      <th>Released</th>\n",
       "      <th>Announced</th>\n",
       "      <th>Hardware Designer</th>\n",
       "      <th>Manufacturer</th>\n",
       "      <th>General Extras</th>\n",
       "      <th>Width</th>\n",
       "      <th>Height</th>\n",
       "      <th>Depth</th>\n",
       "      <th>Dimensions</th>\n",
       "      <th>Mass</th>\n",
       "      <th>Platform</th>\n",
       "      <th>Operating System</th>\n",
       "      <th>CPU Clock</th>\n",
       "      <th>CPU</th>\n",
       "      <th>RAM Type</th>\n",
       "      <th>RAM Capacity (converted)</th>\n",
       "      <th>Non-volatile Memory Interface</th>\n",
       "      <th>Display Diagonal</th>\n",
       "      <th>Resolution</th>\n",
       "      <th>Pixel Density</th>\n",
       "      <th>Display Area Utilization</th>\n",
       "      <th>Display Type</th>\n",
       "      <th>Display Refresh Rate</th>\n",
       "      <th>Scratch Resistant Screen</th>\n",
       "      <th>Graphical Controller</th>\n",
       "      <th>GPU Clock:</th>\n",
       "      <th>Expansion Interfaces</th>\n",
       "      <th>USB Services</th>\n",
       "      <th>USB Connector</th>\n",
       "      <th>Max. Charging Power</th>\n",
       "      <th>Bluetooth</th>\n",
       "      <th>Camera Placement</th>\n",
       "      <th>Camera Image Sensor</th>\n",
       "      <th>Image Sensor Pixel Size</th>\n",
       "      <th>Aperture (W)</th>\n",
       "      <th>Zoom</th>\n",
       "      <th>Video Recording</th>\n",
       "      <th>Camera Extra Functions</th>\n",
       "      <th>Secondary Video Recording</th>\n",
       "      <th>Nominal Battery Capacity</th>\n",
       "      <th>Estimated Battery Life</th>\n",
       "      <th>Market Countries</th>\n",
       "      <th>Market Regions</th>\n",
       "      <th>Price</th>\n",
       "      <th>Memory Capacity</th>\n",
       "      <th>Cam1_mp</th>\n",
       "      <th>Cam2_mp</th>\n",
       "    </tr>\n",
       "  </thead>\n",
       "  <tbody>\n",
       "    <tr>\n",
       "      <th>0</th>\n",
       "      <td>0</td>\n",
       "      <td>Sony</td>\n",
       "      <td>Xperia L2 LTE-A AM H3321</td>\n",
       "      <td>2018-01-26</td>\n",
       "      <td>2018-01-08</td>\n",
       "      <td>Sony</td>\n",
       "      <td>Sony</td>\n",
       "      <td>Haptic touch feedback</td>\n",
       "      <td>78.0</td>\n",
       "      <td>150.0</td>\n",
       "      <td>9.8</td>\n",
       "      <td>3.07x5.91x0.39 inches</td>\n",
       "      <td>178.0</td>\n",
       "      <td>Android</td>\n",
       "      <td>Google Android 7.1.1 (Nougat)</td>\n",
       "      <td>1450.0</td>\n",
       "      <td>MediaTek MT6737T, 2016, 64 bit, quad-core, 28...</td>\n",
       "      <td>LPDDR3 SDRAM</td>\n",
       "      <td>3 GiB RAM</td>\n",
       "      <td>eMMC 5.0</td>\n",
       "      <td>139.7</td>\n",
       "      <td>720x1280</td>\n",
       "      <td>267.0</td>\n",
       "      <td>71.3%</td>\n",
       "      <td>Color TN-TFT LCD display</td>\n",
       "      <td>NaN</td>\n",
       "      <td>Yes</td>\n",
       "      <td>ARM Mali-T720MP2</td>\n",
       "      <td>NaN</td>\n",
       "      <td>TransFlash , microSD , microSDHC , microSDXC</td>\n",
       "      <td>USB charging</td>\n",
       "      <td>USB C reversible</td>\n",
       "      <td>NaN</td>\n",
       "      <td>Bluetooth 4.2</td>\n",
       "      <td>Rear</td>\n",
       "      <td>CMOS</td>\n",
       "      <td>NaN</td>\n",
       "      <td>f/2.00</td>\n",
       "      <td>1.0 x optical zoom</td>\n",
       "      <td>1920x1080 pixel</td>\n",
       "      <td>HDR photo , Macro mode , Panorama Photo , Fac...</td>\n",
       "      <td>1920x1080 pixel</td>\n",
       "      <td>3300.0</td>\n",
       "      <td>NaN</td>\n",
       "      <td>Brazil , USA</td>\n",
       "      <td>North America , South America</td>\n",
       "      <td>NaN</td>\n",
       "      <td>32.0</td>\n",
       "      <td>12.8</td>\n",
       "      <td>7.7</td>\n",
       "    </tr>\n",
       "    <tr>\n",
       "      <th>1</th>\n",
       "      <td>1</td>\n",
       "      <td>Sony</td>\n",
       "      <td>Xperia L2 Dual SIM TD-LTE EMEA H4311</td>\n",
       "      <td>2018-01-26</td>\n",
       "      <td>2018-01-08</td>\n",
       "      <td>Sony</td>\n",
       "      <td>Sony</td>\n",
       "      <td>Haptic touch feedback</td>\n",
       "      <td>78.0</td>\n",
       "      <td>150.0</td>\n",
       "      <td>9.8</td>\n",
       "      <td>3.07x5.91x0.39 inches</td>\n",
       "      <td>178.0</td>\n",
       "      <td>Android</td>\n",
       "      <td>Google Android 7.1.1 (Nougat)</td>\n",
       "      <td>1450.0</td>\n",
       "      <td>MediaTek MT6737T, 2016, 64 bit, quad-core, 28...</td>\n",
       "      <td>LPDDR3 SDRAM</td>\n",
       "      <td>3 GiB RAM</td>\n",
       "      <td>eMMC 5.0</td>\n",
       "      <td>139.7</td>\n",
       "      <td>720x1280</td>\n",
       "      <td>267.0</td>\n",
       "      <td>71.3%</td>\n",
       "      <td>Color TN-TFT LCD display</td>\n",
       "      <td>NaN</td>\n",
       "      <td>Yes</td>\n",
       "      <td>ARM Mali-T720MP2</td>\n",
       "      <td>NaN</td>\n",
       "      <td>TransFlash , microSD , microSDHC , microSDXC</td>\n",
       "      <td>USB charging</td>\n",
       "      <td>USB C reversible</td>\n",
       "      <td>NaN</td>\n",
       "      <td>Bluetooth 4.2</td>\n",
       "      <td>Rear</td>\n",
       "      <td>CMOS</td>\n",
       "      <td>NaN</td>\n",
       "      <td>f/2.00</td>\n",
       "      <td>1.0 x optical zoom</td>\n",
       "      <td>1920x1080 pixel</td>\n",
       "      <td>HDR photo , Macro mode , Panorama Photo , Fac...</td>\n",
       "      <td>1920x1080 pixel</td>\n",
       "      <td>3300.0</td>\n",
       "      <td>NaN</td>\n",
       "      <td>Czech , Germany , Hungary , Poland , Russia ,...</td>\n",
       "      <td>Eastern Europe , Europe , Middle East  , West...</td>\n",
       "      <td>NaN</td>\n",
       "      <td>32.0</td>\n",
       "      <td>12.8</td>\n",
       "      <td>7.7</td>\n",
       "    </tr>\n",
       "    <tr>\n",
       "      <th>2</th>\n",
       "      <td>2</td>\n",
       "      <td>LG</td>\n",
       "      <td>LMX210NMW K Series K9 2018 Dual SIM LTE EMEA</td>\n",
       "      <td>2018-03-24</td>\n",
       "      <td>2018-02-22</td>\n",
       "      <td>LG Electronics</td>\n",
       "      <td>LG Electronics</td>\n",
       "      <td>Haptic touch feedback</td>\n",
       "      <td>73.2</td>\n",
       "      <td>146.3</td>\n",
       "      <td>8.2</td>\n",
       "      <td>2.88x5.76x0.32 inches</td>\n",
       "      <td>152.0</td>\n",
       "      <td>Android</td>\n",
       "      <td>Google Android 7.1.2 (Nougat)</td>\n",
       "      <td>1300.0</td>\n",
       "      <td>Qualcomm Snapdragon 212 MSM8909v2, 2015, 32 b...</td>\n",
       "      <td>LPDDR3 SDRAM</td>\n",
       "      <td>2 GiB RAM</td>\n",
       "      <td>eMMC 4.5</td>\n",
       "      <td>127.0</td>\n",
       "      <td>720x1280</td>\n",
       "      <td>294.0</td>\n",
       "      <td>64.4%</td>\n",
       "      <td>Color IPS TFT LCD display</td>\n",
       "      <td>NaN</td>\n",
       "      <td>Arc Glass</td>\n",
       "      <td>Qualcomm Adreno 304</td>\n",
       "      <td>409 MHz</td>\n",
       "      <td>TransFlash , microSD , microSDHC</td>\n",
       "      <td>USB charging</td>\n",
       "      <td>USB Micro-B (Micro-USB)</td>\n",
       "      <td>NaN</td>\n",
       "      <td>Bluetooth 4.2</td>\n",
       "      <td>Rear</td>\n",
       "      <td>CMOS</td>\n",
       "      <td>1.12 micrometer</td>\n",
       "      <td>f/2.00</td>\n",
       "      <td>1.0 x optical zoom</td>\n",
       "      <td>NaN</td>\n",
       "      <td>HDR photo , Red-eye reduction , Burst mode , ...</td>\n",
       "      <td>1280x720 pixel</td>\n",
       "      <td>2500.0</td>\n",
       "      <td>NaN</td>\n",
       "      <td>Russia , Ukraine</td>\n",
       "      <td>Eastern Europe , Europe</td>\n",
       "      <td>NaN</td>\n",
       "      <td>16.0</td>\n",
       "      <td>8.0</td>\n",
       "      <td>4.9</td>\n",
       "    </tr>\n",
       "  </tbody>\n",
       "</table>\n",
       "</div>"
      ],
      "text/plain": [
       "   Unnamed: 0 Brand                                         Model    Released  ... Price Memory Capacity Cam1_mp Cam2_mp\n",
       "0           0  Sony                      Xperia L2 LTE-A AM H3321  2018-01-26  ...   NaN            32.0    12.8     7.7\n",
       "1           1  Sony          Xperia L2 Dual SIM TD-LTE EMEA H4311  2018-01-26  ...   NaN            32.0    12.8     7.7\n",
       "2           2    LG  LMX210NMW K Series K9 2018 Dual SIM LTE EMEA  2018-03-24  ...   NaN            16.0     8.0     4.9\n",
       "\n",
       "[3 rows x 50 columns]"
      ]
     },
     "execution_count": 6,
     "metadata": {},
     "output_type": "execute_result"
    }
   ],
   "source": [
    "#import the data\n",
    "data= pd.read_csv('mobile.csv')\n",
    "data.head(3)"
   ]
  },
  {
   "cell_type": "code",
   "execution_count": 7,
   "id": "9352fcb9",
   "metadata": {
    "scrolled": true
   },
   "outputs": [
    {
     "data": {
      "text/plain": [
       "Index(['Brand', 'Model', 'Released', 'Announced', 'Hardware Designer',\n",
       "       'Manufacturer', 'General Extras', 'Width', 'Height', 'Depth',\n",
       "       'Dimensions', 'Mass', 'Platform', 'Operating System', 'CPU Clock',\n",
       "       'CPU', 'RAM Type', 'RAM Capacity (converted)',\n",
       "       'Non-volatile Memory Interface', 'Display Diagonal', 'Resolution',\n",
       "       'Pixel Density', 'Display Area Utilization', 'Display Type',\n",
       "       'Display Refresh Rate', 'Scratch Resistant Screen',\n",
       "       'Graphical Controller', 'GPU Clock:', 'Expansion Interfaces',\n",
       "       'USB Services', 'USB Connector', 'Max. Charging Power', 'Bluetooth',\n",
       "       'Camera Placement', 'Camera Image Sensor', 'Image Sensor Pixel Size',\n",
       "       'Aperture (W)', 'Zoom', 'Video Recording', 'Camera Extra Functions',\n",
       "       'Secondary Video Recording', 'Nominal Battery Capacity',\n",
       "       'Estimated Battery Life', 'Market Countries', 'Market Regions', 'Price',\n",
       "       'Memory Capacity', 'Cam1_mp', 'Cam2_mp'],\n",
       "      dtype='object')"
      ]
     },
     "execution_count": 7,
     "metadata": {},
     "output_type": "execute_result"
    }
   ],
   "source": [
    "#drop the unamed column\n",
    "data=data.drop(columns=['Unnamed: 0'],axis=1)\n",
    "data.columns"
   ]
  },
  {
   "cell_type": "code",
   "execution_count": 21,
   "id": "c59b0958",
   "metadata": {},
   "outputs": [
    {
     "data": {
      "text/plain": [
       "(8277, 49)"
      ]
     },
     "execution_count": 21,
     "metadata": {},
     "output_type": "execute_result"
    }
   ],
   "source": [
    "data.shape"
   ]
  },
  {
   "cell_type": "code",
   "execution_count": 8,
   "id": "17e029e5",
   "metadata": {},
   "outputs": [
    {
     "data": {
      "text/plain": [
       "Brand                               0\n",
       "Model                               0\n",
       "Released                            7\n",
       "Announced                         355\n",
       "Hardware Designer                 333\n",
       "Manufacturer                      902\n",
       "General Extras                     22\n",
       "Width                              17\n",
       "Height                             17\n",
       "Depth                              19\n",
       "Dimensions                         19\n",
       "Mass                              121\n",
       "Platform                            0\n",
       "Operating System                    1\n",
       "CPU Clock                          14\n",
       "CPU                                 8\n",
       "RAM Type                            0\n",
       "RAM Capacity (converted)            2\n",
       "Non-volatile Memory Interface       0\n",
       "Display Diagonal                    0\n",
       "Resolution                          1\n",
       "Pixel Density                       1\n",
       "Display Area Utilization           18\n",
       "Display Type                        0\n",
       "Display Refresh Rate             4448\n",
       "Scratch Resistant Screen            0\n",
       "Graphical Controller              108\n",
       "GPU Clock:                       2720\n",
       "Expansion Interfaces               11\n",
       "USB Services                        3\n",
       "USB Connector                       0\n",
       "Max. Charging Power              2609\n",
       "Bluetooth                           0\n",
       "Camera Placement                    5\n",
       "Camera Image Sensor                 0\n",
       "Image Sensor Pixel Size          2686\n",
       "Aperture (W)                      719\n",
       "Zoom                               81\n",
       "Video Recording                   422\n",
       "Camera Extra Functions             23\n",
       "Secondary Video Recording        1422\n",
       "Nominal Battery Capacity           33\n",
       "Estimated Battery Life           6602\n",
       "Market Countries                    1\n",
       "Market Regions                     13\n",
       "Price                            4529\n",
       "Memory Capacity                     5\n",
       "Cam1_mp                             0\n",
       "Cam2_mp                            60\n",
       "dtype: int64"
      ]
     },
     "execution_count": 8,
     "metadata": {},
     "output_type": "execute_result"
    }
   ],
   "source": [
    "#display the missing values in each columns\n",
    "data.isnull().sum()"
   ]
  },
  {
   "cell_type": "code",
   "execution_count": 9,
   "id": "d010b325",
   "metadata": {},
   "outputs": [
    {
     "data": {
      "text/plain": [
       "0"
      ]
     },
     "execution_count": 9,
     "metadata": {},
     "output_type": "execute_result"
    }
   ],
   "source": [
    "#check for duplicates\n",
    "data.duplicated().sum()"
   ]
  },
  {
   "cell_type": "code",
   "execution_count": 10,
   "id": "4206dbd3",
   "metadata": {},
   "outputs": [
    {
     "data": {
      "text/plain": [
       "Brand                             object\n",
       "Model                             object\n",
       "Released                          object\n",
       "Announced                         object\n",
       "Hardware Designer                 object\n",
       "Manufacturer                      object\n",
       "General Extras                    object\n",
       "Width                            float64\n",
       "Height                           float64\n",
       "Depth                            float64\n",
       "Dimensions                        object\n",
       "Mass                             float64\n",
       "Platform                          object\n",
       "Operating System                  object\n",
       "CPU Clock                        float64\n",
       "CPU                               object\n",
       "RAM Type                          object\n",
       "RAM Capacity (converted)          object\n",
       "Non-volatile Memory Interface     object\n",
       "Display Diagonal                 float64\n",
       "Resolution                        object\n",
       "Pixel Density                    float64\n",
       "Display Area Utilization          object\n",
       "Display Type                      object\n",
       "Display Refresh Rate             float64\n",
       "Scratch Resistant Screen          object\n",
       "Graphical Controller              object\n",
       "GPU Clock:                        object\n",
       "Expansion Interfaces              object\n",
       "USB Services                      object\n",
       "USB Connector                     object\n",
       "Max. Charging Power               object\n",
       "Bluetooth                         object\n",
       "Camera Placement                  object\n",
       "Camera Image Sensor               object\n",
       "Image Sensor Pixel Size           object\n",
       "Aperture (W)                      object\n",
       "Zoom                              object\n",
       "Video Recording                   object\n",
       "Camera Extra Functions            object\n",
       "Secondary Video Recording         object\n",
       "Nominal Battery Capacity         float64\n",
       "Estimated Battery Life            object\n",
       "Market Countries                  object\n",
       "Market Regions                    object\n",
       "Price                            float64\n",
       "Memory Capacity                  float64\n",
       "Cam1_mp                          float64\n",
       "Cam2_mp                          float64\n",
       "dtype: object"
      ]
     },
     "execution_count": 10,
     "metadata": {},
     "output_type": "execute_result"
    }
   ],
   "source": [
    "#check the data types\n",
    "data.dtypes"
   ]
  },
  {
   "cell_type": "code",
   "execution_count": 14,
   "id": "aace75a3",
   "metadata": {},
   "outputs": [],
   "source": [
    "obj_data=data.select_dtypes(exclude=[np.number])\n",
    "numerical_data=data.select_dtypes(include=[np.number])"
   ]
  },
  {
   "cell_type": "code",
   "execution_count": 17,
   "id": "fe3c9a11",
   "metadata": {},
   "outputs": [
    {
     "data": {
      "text/html": [
       "<div>\n",
       "<style scoped>\n",
       "    .dataframe tbody tr th:only-of-type {\n",
       "        vertical-align: middle;\n",
       "    }\n",
       "\n",
       "    .dataframe tbody tr th {\n",
       "        vertical-align: top;\n",
       "    }\n",
       "\n",
       "    .dataframe thead th {\n",
       "        text-align: right;\n",
       "    }\n",
       "</style>\n",
       "<table border=\"1\" class=\"dataframe\">\n",
       "  <thead>\n",
       "    <tr style=\"text-align: right;\">\n",
       "      <th></th>\n",
       "      <th>Brand</th>\n",
       "      <th>Model</th>\n",
       "      <th>Released</th>\n",
       "      <th>Announced</th>\n",
       "      <th>Hardware Designer</th>\n",
       "      <th>Manufacturer</th>\n",
       "      <th>General Extras</th>\n",
       "      <th>Dimensions</th>\n",
       "      <th>Platform</th>\n",
       "      <th>Operating System</th>\n",
       "      <th>CPU</th>\n",
       "      <th>RAM Type</th>\n",
       "      <th>RAM Capacity (converted)</th>\n",
       "      <th>Non-volatile Memory Interface</th>\n",
       "      <th>Resolution</th>\n",
       "      <th>Display Area Utilization</th>\n",
       "      <th>Display Type</th>\n",
       "      <th>Scratch Resistant Screen</th>\n",
       "      <th>Graphical Controller</th>\n",
       "      <th>GPU Clock:</th>\n",
       "      <th>Expansion Interfaces</th>\n",
       "      <th>USB Services</th>\n",
       "      <th>USB Connector</th>\n",
       "      <th>Max. Charging Power</th>\n",
       "      <th>Bluetooth</th>\n",
       "      <th>Camera Placement</th>\n",
       "      <th>Camera Image Sensor</th>\n",
       "      <th>Image Sensor Pixel Size</th>\n",
       "      <th>Aperture (W)</th>\n",
       "      <th>Zoom</th>\n",
       "      <th>Video Recording</th>\n",
       "      <th>Camera Extra Functions</th>\n",
       "      <th>Secondary Video Recording</th>\n",
       "      <th>Estimated Battery Life</th>\n",
       "      <th>Market Countries</th>\n",
       "      <th>Market Regions</th>\n",
       "    </tr>\n",
       "  </thead>\n",
       "  <tbody>\n",
       "    <tr>\n",
       "      <th>0</th>\n",
       "      <td>Sony</td>\n",
       "      <td>Xperia L2 LTE-A AM H3321</td>\n",
       "      <td>2018-01-26</td>\n",
       "      <td>2018-01-08</td>\n",
       "      <td>Sony</td>\n",
       "      <td>Sony</td>\n",
       "      <td>Haptic touch feedback</td>\n",
       "      <td>3.07x5.91x0.39 inches</td>\n",
       "      <td>Android</td>\n",
       "      <td>Google Android 7.1.1 (Nougat)</td>\n",
       "      <td>MediaTek MT6737T, 2016, 64 bit, quad-core, 28...</td>\n",
       "      <td>LPDDR3 SDRAM</td>\n",
       "      <td>3 GiB RAM</td>\n",
       "      <td>eMMC 5.0</td>\n",
       "      <td>720x1280</td>\n",
       "      <td>71.3%</td>\n",
       "      <td>Color TN-TFT LCD display</td>\n",
       "      <td>Yes</td>\n",
       "      <td>ARM Mali-T720MP2</td>\n",
       "      <td>NaN</td>\n",
       "      <td>TransFlash , microSD , microSDHC , microSDXC</td>\n",
       "      <td>USB charging</td>\n",
       "      <td>USB C reversible</td>\n",
       "      <td>NaN</td>\n",
       "      <td>Bluetooth 4.2</td>\n",
       "      <td>Rear</td>\n",
       "      <td>CMOS</td>\n",
       "      <td>NaN</td>\n",
       "      <td>f/2.00</td>\n",
       "      <td>1.0 x optical zoom</td>\n",
       "      <td>1920x1080 pixel</td>\n",
       "      <td>HDR photo , Macro mode , Panorama Photo , Fac...</td>\n",
       "      <td>1920x1080 pixel</td>\n",
       "      <td>NaN</td>\n",
       "      <td>Brazil , USA</td>\n",
       "      <td>North America , South America</td>\n",
       "    </tr>\n",
       "    <tr>\n",
       "      <th>1</th>\n",
       "      <td>Sony</td>\n",
       "      <td>Xperia L2 Dual SIM TD-LTE EMEA H4311</td>\n",
       "      <td>2018-01-26</td>\n",
       "      <td>2018-01-08</td>\n",
       "      <td>Sony</td>\n",
       "      <td>Sony</td>\n",
       "      <td>Haptic touch feedback</td>\n",
       "      <td>3.07x5.91x0.39 inches</td>\n",
       "      <td>Android</td>\n",
       "      <td>Google Android 7.1.1 (Nougat)</td>\n",
       "      <td>MediaTek MT6737T, 2016, 64 bit, quad-core, 28...</td>\n",
       "      <td>LPDDR3 SDRAM</td>\n",
       "      <td>3 GiB RAM</td>\n",
       "      <td>eMMC 5.0</td>\n",
       "      <td>720x1280</td>\n",
       "      <td>71.3%</td>\n",
       "      <td>Color TN-TFT LCD display</td>\n",
       "      <td>Yes</td>\n",
       "      <td>ARM Mali-T720MP2</td>\n",
       "      <td>NaN</td>\n",
       "      <td>TransFlash , microSD , microSDHC , microSDXC</td>\n",
       "      <td>USB charging</td>\n",
       "      <td>USB C reversible</td>\n",
       "      <td>NaN</td>\n",
       "      <td>Bluetooth 4.2</td>\n",
       "      <td>Rear</td>\n",
       "      <td>CMOS</td>\n",
       "      <td>NaN</td>\n",
       "      <td>f/2.00</td>\n",
       "      <td>1.0 x optical zoom</td>\n",
       "      <td>1920x1080 pixel</td>\n",
       "      <td>HDR photo , Macro mode , Panorama Photo , Fac...</td>\n",
       "      <td>1920x1080 pixel</td>\n",
       "      <td>NaN</td>\n",
       "      <td>Czech , Germany , Hungary , Poland , Russia ,...</td>\n",
       "      <td>Eastern Europe , Europe , Middle East  , West...</td>\n",
       "    </tr>\n",
       "  </tbody>\n",
       "</table>\n",
       "</div>"
      ],
      "text/plain": [
       "  Brand  ...                                     Market Regions\n",
       "0  Sony  ...                      North America , South America\n",
       "1  Sony  ...   Eastern Europe , Europe , Middle East  , West...\n",
       "\n",
       "[2 rows x 36 columns]"
      ]
     },
     "execution_count": 17,
     "metadata": {},
     "output_type": "execute_result"
    }
   ],
   "source": [
    "obj_data.head(2)"
   ]
  },
  {
   "cell_type": "code",
   "execution_count": 38,
   "id": "e3daf942",
   "metadata": {},
   "outputs": [
    {
     "data": {
      "text/plain": [
       "array([' CMOS', ' BSI CMOS', 'No'], dtype=object)"
      ]
     },
     "execution_count": 38,
     "metadata": {},
     "output_type": "execute_result"
    }
   ],
   "source": [
    "obj_data['Camera Image Sensor'].unique()"
   ]
  },
  {
   "cell_type": "code",
   "execution_count": 36,
   "id": "8195963e",
   "metadata": {},
   "outputs": [
    {
     "data": {
      "text/plain": [
       "array([' Haptic touch feedback',\n",
       "       ' Haptic touch feedback , Tactile touch feedback',\n",
       "       ' Haptic touch feedback , Active stylus',\n",
       "       ' Haptic touch feedback , Passive stylus',\n",
       "       ' Haptic touch feedback , Foldable screen',\n",
       "       ' Haptic touch feedback , Tactile touch feedback , Display speaker',\n",
       "       ' Haptic touch feedback , Display speaker',\n",
       "       ' Haptic touch feedback , Built-in projector',\n",
       "       ' Haptic touch feedback , Tactile touch feedback , Active stylus',\n",
       "       ' Rotatable screen , Haptic touch feedback',\n",
       "       ' Haptic touch feedback , Tactile touch feedback , Foldable screen',\n",
       "       ' Haptic touch feedback , Active stylus , Foldable screen'],\n",
       "      dtype=object)"
      ]
     },
     "execution_count": 36,
     "metadata": {},
     "output_type": "execute_result"
    }
   ],
   "source": [
    "obj_data['General Extras'].unique()"
   ]
  },
  {
   "cell_type": "code",
   "execution_count": 35,
   "id": "f2643751",
   "metadata": {},
   "outputs": [
    {
     "data": {
      "text/plain": [
       "array([' Rear', ' Slide-out', ' Rotatable'], dtype=object)"
      ]
     },
     "execution_count": 35,
     "metadata": {},
     "output_type": "execute_result"
    }
   ],
   "source": [
    "obj_data['Camera Placement'].unique()"
   ]
  },
  {
   "cell_type": "code",
   "execution_count": 33,
   "id": "99662728",
   "metadata": {},
   "outputs": [
    {
     "data": {
      "text/plain": [
       "array([' Yes', ' Arc Glass', ' Gorilla Glass 4', ' Gorilla Glass',\n",
       "       ' Gorilla Glass 5', 'No', ' Gorilla Glass 3', ' DragonTrail',\n",
       "       ' Sapphire Glass', ' Gorilla Glass 6', ' DragonTrail X',\n",
       "       ' Gorilla Glass 2', ' Gorilla Glass Victus', ' Ceramic shield',\n",
       "       ' Gorilla Glass Victus+', ' Gorilla Glass Victus 2'], dtype=object)"
      ]
     },
     "execution_count": 33,
     "metadata": {},
     "output_type": "execute_result"
    }
   ],
   "source": [
    "obj_data['Scratch Resistant Screen'].unique()"
   ]
  },
  {
   "cell_type": "code",
   "execution_count": 32,
   "id": "4ed709c5",
   "metadata": {},
   "outputs": [
    {
     "data": {
      "text/plain": [
       "array([' Google Android 7.1.1 (Nougat)', ' Google Android 7.1.2 (Nougat)',\n",
       "       ' Google Android 5.1 (Lollipop)',\n",
       "       ' Google Android 5.1.1 (Lollipop)', ' Google Android 8.0 (Oreo)',\n",
       "       ' Google Android 7.0 (Nougat)',\n",
       "       ' Google Android 6.0 (Marshmallow)',\n",
       "       ' Google Android 5.0.1 (Lollipop)',\n",
       "       ' Google Android 8.1 Oreo Go edition (Oreo)',\n",
       "       ' Google Android 6.0.1 (Marshmallow)',\n",
       "       ' Google Android 8.1 (Oreo)', ' Google Android 4.4.2 (KitKat)',\n",
       "       ' Google Android 7.1 (Nougat)', ' Mozilla Firefox OS 2.0',\n",
       "       ' Google Android 9.0 (Pie)', ' Alibaba YunOS 5.1.1',\n",
       "       ' Microsoft Windows Embedded Handheld 6.5 Professional',\n",
       "       ' Apple iOS 12', ' Google Android 5.0.2 (Lollipop)',\n",
       "       ' Google Android 10 (Q)', ' Google Android 4.1 (Jelly Bean)',\n",
       "       ' Google Android 2.1 (Eclair)', ' Google Android 4.4.4 (KitKat)',\n",
       "       ' Google Android 4.2 (Jelly Bean)',\n",
       "       ' Google Android 4.2.2 (Jelly Bean)',\n",
       "       ' Google Android 9 Pie Go edition (Pie)',\n",
       "       ' KaiOS Technologies KaiOS 1.0', ' KaiOS Technologies KaiOS 2.0',\n",
       "       ' Apple iOS 13', ' Google Android 10 Go edition (Q)',\n",
       "       ' Google Android 4.4 (KitKat)', ' Apple iOS 13.4',\n",
       "       ' Google Android 11 (R)', ' Apple iOS 14.1', ' Apple iOS 11',\n",
       "       ' Apple iOS 10', ' Apple iOS 10.0.1', ' Apple iOS 12.4',\n",
       "       ' Huawei HarmonyOS 2.0', ' Google Android 11 Go Edition (R)',\n",
       "       ' Apple iOS 15', ' Google Android 12 (S)', ' Apple iOS 16',\n",
       "       ' Google Android 13 (Tiramisu)',\n",
       "       ' Google Android 12 Go Edition (S)', ' Huawei HarmonyOS 3.0'],\n",
       "      dtype=object)"
      ]
     },
     "execution_count": 32,
     "metadata": {},
     "output_type": "execute_result"
    }
   ],
   "source": [
    "obj_data['Operating System'].unique()"
   ]
  },
  {
   "cell_type": "code",
   "execution_count": 31,
   "id": "ec23159d",
   "metadata": {},
   "outputs": [
    {
     "data": {
      "text/plain": [
       "array([' Android', ' Linux', ' Windows (mobile-class)', ' iOS / iPadOS'],\n",
       "      dtype=object)"
      ]
     },
     "execution_count": 31,
     "metadata": {},
     "output_type": "execute_result"
    }
   ],
   "source": [
    "obj_data['Platform'].unique()"
   ]
  },
  {
   "cell_type": "code",
   "execution_count": 30,
   "id": "e16524ef",
   "metadata": {},
   "outputs": [
    {
     "data": {
      "text/plain": [
       "array(['Sony', 'LG Electronics', 'BBK Electronics', 'TCL',\n",
       "       'Samsung Electronics', 'FIH Precision Electronics', 'HTC', 'ZTE',\n",
       "       'ASUSTeK Computer', 'Hisense', 'Meizu', 'Compal Electronics',\n",
       "       'Blu Products', 'Shenzhen TINNO Mobile Technology', 'Huawei',\n",
       "       'TP-Link Technologies', 'Lenovo', 'Foxconn', 'Sonim Technologies',\n",
       "       'Matsunichi Digital Development', 'Yulong Computer',\n",
       "       'Kyocera Communications', 'Sharp', 'OTEDA Industrial',\n",
       "       'GiONEE Communications Equipment', 'Meitu Mobile', 'Xiaomi',\n",
       "       'Shenzen Gotron Electronic Co. Ltd.',\n",
       "       'Shenzhen Konka Telecommunications Techno', 'Fujitsu',\n",
       "       'Multilaser', 'Shenzen Koobee Communication Co.,Ltd.',\n",
       "       'Infinix Mobility', 'Abacus Electric',\n",
       "       'Zebra Technologies Corporation',\n",
       "       'Shenzhen uCloudlink Network Technology',\n",
       "       'Shenzen Huafurui Technology Co. Ltd.', 'Intex Mobile',\n",
       "       'InFocus Corporation', 'Optiemus Electronics Ltd.',\n",
       "       'Shenzhen KVD Communication Equipment', 'Poptel',\n",
       "       'Suzhou Snail Digital Technology', 'AdvanceTC Group',\n",
       "       'Zhejiang Dejing Electronic Technology', 'MCM Telecom Equipment ',\n",
       "       'Micromax Informatics', 'Shenzhen RuiErsheng Technology Co.',\n",
       "       'Zopo', 'Panasonic India Pvt. Ltd.', 'NUU Mobile',\n",
       "       'Panasonic Mobile Communications ', 'RED Technologies', 'Wintech',\n",
       "       'Koolnee', 'Elephone Communication', 'BenQ Corporation',\n",
       "       'Hytera Communications', 'Shenzhen JEKO Communication',\n",
       "       'Wingtech Mobile', 'Fortune Ship International Industrial',\n",
       "       'Huaqin Telecom', 'Yunji Intelligent Technology',\n",
       "       'Flextronics Technologies', 'Rising Stars Mobile India',\n",
       "       'Foxconn, Pegatron', 'VinSmart', 'Hon Hai Precision',\n",
       "       'Huizhou HEG Technology', 'Motorola Mobile Devices', 'OPPO India',\n",
       "       'Global Components'], dtype=object)"
      ]
     },
     "execution_count": 30,
     "metadata": {},
     "output_type": "execute_result"
    }
   ],
   "source": [
    "obj_data['Manufacturer'].unique()"
   ]
  },
  {
   "cell_type": "code",
   "execution_count": 20,
   "id": "99279522",
   "metadata": {},
   "outputs": [
    {
     "data": {
      "text/plain": [
       " Rear         8238\n",
       " Rotatable      27\n",
       " Slide-out       7\n",
       "Name: Camera Placement, dtype: int64"
      ]
     },
     "execution_count": 20,
     "metadata": {},
     "output_type": "execute_result"
    }
   ],
   "source": [
    "obj_data['Camera Placement'].value_counts()"
   ]
  },
  {
   "cell_type": "code",
   "execution_count": 16,
   "id": "0f367801",
   "metadata": {},
   "outputs": [
    {
     "data": {
      "text/html": [
       "<div>\n",
       "<style scoped>\n",
       "    .dataframe tbody tr th:only-of-type {\n",
       "        vertical-align: middle;\n",
       "    }\n",
       "\n",
       "    .dataframe tbody tr th {\n",
       "        vertical-align: top;\n",
       "    }\n",
       "\n",
       "    .dataframe thead th {\n",
       "        text-align: right;\n",
       "    }\n",
       "</style>\n",
       "<table border=\"1\" class=\"dataframe\">\n",
       "  <thead>\n",
       "    <tr style=\"text-align: right;\">\n",
       "      <th></th>\n",
       "      <th>Width</th>\n",
       "      <th>Height</th>\n",
       "      <th>Depth</th>\n",
       "      <th>Mass</th>\n",
       "      <th>CPU Clock</th>\n",
       "      <th>Display Diagonal</th>\n",
       "      <th>Pixel Density</th>\n",
       "      <th>Display Refresh Rate</th>\n",
       "      <th>Nominal Battery Capacity</th>\n",
       "      <th>Price</th>\n",
       "      <th>Memory Capacity</th>\n",
       "      <th>Cam1_mp</th>\n",
       "      <th>Cam2_mp</th>\n",
       "    </tr>\n",
       "  </thead>\n",
       "  <tbody>\n",
       "    <tr>\n",
       "      <th>0</th>\n",
       "      <td>78.0</td>\n",
       "      <td>150.0</td>\n",
       "      <td>9.8</td>\n",
       "      <td>178.0</td>\n",
       "      <td>1450.0</td>\n",
       "      <td>139.7</td>\n",
       "      <td>267.0</td>\n",
       "      <td>NaN</td>\n",
       "      <td>3300.0</td>\n",
       "      <td>NaN</td>\n",
       "      <td>32.0</td>\n",
       "      <td>12.8</td>\n",
       "      <td>7.7</td>\n",
       "    </tr>\n",
       "    <tr>\n",
       "      <th>1</th>\n",
       "      <td>78.0</td>\n",
       "      <td>150.0</td>\n",
       "      <td>9.8</td>\n",
       "      <td>178.0</td>\n",
       "      <td>1450.0</td>\n",
       "      <td>139.7</td>\n",
       "      <td>267.0</td>\n",
       "      <td>NaN</td>\n",
       "      <td>3300.0</td>\n",
       "      <td>NaN</td>\n",
       "      <td>32.0</td>\n",
       "      <td>12.8</td>\n",
       "      <td>7.7</td>\n",
       "    </tr>\n",
       "    <tr>\n",
       "      <th>2</th>\n",
       "      <td>73.2</td>\n",
       "      <td>146.3</td>\n",
       "      <td>8.2</td>\n",
       "      <td>152.0</td>\n",
       "      <td>1300.0</td>\n",
       "      <td>127.0</td>\n",
       "      <td>294.0</td>\n",
       "      <td>NaN</td>\n",
       "      <td>2500.0</td>\n",
       "      <td>NaN</td>\n",
       "      <td>16.0</td>\n",
       "      <td>8.0</td>\n",
       "      <td>4.9</td>\n",
       "    </tr>\n",
       "  </tbody>\n",
       "</table>\n",
       "</div>"
      ],
      "text/plain": [
       "   Width  Height  Depth   Mass  CPU Clock  ...  Nominal Battery Capacity  Price  Memory Capacity  Cam1_mp  Cam2_mp\n",
       "0   78.0   150.0    9.8  178.0     1450.0  ...                    3300.0    NaN             32.0     12.8      7.7\n",
       "1   78.0   150.0    9.8  178.0     1450.0  ...                    3300.0    NaN             32.0     12.8      7.7\n",
       "2   73.2   146.3    8.2  152.0     1300.0  ...                    2500.0    NaN             16.0      8.0      4.9\n",
       "\n",
       "[3 rows x 13 columns]"
      ]
     },
     "execution_count": 16,
     "metadata": {},
     "output_type": "execute_result"
    }
   ],
   "source": [
    "numerical_data.head(3)"
   ]
  },
  {
   "cell_type": "code",
   "execution_count": 23,
   "id": "a8c365a6",
   "metadata": {},
   "outputs": [],
   "source": [
    "#fill every missing values in each column of the object data with its mode\n",
    "for cols in enumerate(obj_data.columns):\n",
    "    mode = obj_data[cols[1]].mode()[0]  # Extract the mode value\n",
    "    if obj_data[cols[1]].isnull().sum() != 0:\n",
    "        obj_data[cols[1]].fillna(mode, inplace=True)  # Fill missing values with the mode\n"
   ]
  },
  {
   "cell_type": "code",
   "execution_count": 24,
   "id": "4c1b3481",
   "metadata": {},
   "outputs": [],
   "source": [
    "#fill every missing values in each column of the numerical data with its median\n",
    "for cols in enumerate(numerical_data.columns):\n",
    "    median = numerical_data[cols[1]].median()  # Calculate the mean value for the column\n",
    "    if numerical_data[cols[1]].isnull().sum() != 0:\n",
    "        numerical_data[cols[1]].fillna(median, inplace=True)  # Fill missing values with the mean"
   ]
  },
  {
   "cell_type": "code",
   "execution_count": 25,
   "id": "b8ffed2f",
   "metadata": {},
   "outputs": [
    {
     "data": {
      "text/plain": [
       "Brand                            0\n",
       "Model                            0\n",
       "Released                         0\n",
       "Announced                        0\n",
       "Hardware Designer                0\n",
       "Manufacturer                     0\n",
       "General Extras                   0\n",
       "Dimensions                       0\n",
       "Platform                         0\n",
       "Operating System                 0\n",
       "CPU                              0\n",
       "RAM Type                         0\n",
       "RAM Capacity (converted)         0\n",
       "Non-volatile Memory Interface    0\n",
       "Resolution                       0\n",
       "Display Area Utilization         0\n",
       "Display Type                     0\n",
       "Scratch Resistant Screen         0\n",
       "Graphical Controller             0\n",
       "GPU Clock:                       0\n",
       "Expansion Interfaces             0\n",
       "USB Services                     0\n",
       "USB Connector                    0\n",
       "Max. Charging Power              0\n",
       "Bluetooth                        0\n",
       "Camera Placement                 0\n",
       "Camera Image Sensor              0\n",
       "Image Sensor Pixel Size          0\n",
       "Aperture (W)                     0\n",
       "Zoom                             0\n",
       "Video Recording                  0\n",
       "Camera Extra Functions           0\n",
       "Secondary Video Recording        0\n",
       "Estimated Battery Life           0\n",
       "Market Countries                 0\n",
       "Market Regions                   0\n",
       "dtype: int64"
      ]
     },
     "execution_count": 25,
     "metadata": {},
     "output_type": "execute_result"
    }
   ],
   "source": [
    "obj_data.isnull().sum()"
   ]
  },
  {
   "cell_type": "code",
   "execution_count": 26,
   "id": "a595df8f",
   "metadata": {},
   "outputs": [
    {
     "data": {
      "text/plain": [
       "Width                       0\n",
       "Height                      0\n",
       "Depth                       0\n",
       "Mass                        0\n",
       "CPU Clock                   0\n",
       "Display Diagonal            0\n",
       "Pixel Density               0\n",
       "Display Refresh Rate        0\n",
       "Nominal Battery Capacity    0\n",
       "Price                       0\n",
       "Memory Capacity             0\n",
       "Cam1_mp                     0\n",
       "Cam2_mp                     0\n",
       "dtype: int64"
      ]
     },
     "execution_count": 26,
     "metadata": {},
     "output_type": "execute_result"
    }
   ],
   "source": [
    "numerical_data.isnull().sum()"
   ]
  },
  {
   "cell_type": "code",
   "execution_count": null,
   "id": "4363afac",
   "metadata": {},
   "outputs": [],
   "source": []
  }
 ],
 "metadata": {
  "kernelspec": {
   "display_name": "Python 3 (ipykernel)",
   "language": "python",
   "name": "python3"
  },
  "language_info": {
   "codemirror_mode": {
    "name": "ipython",
    "version": 3
   },
   "file_extension": ".py",
   "mimetype": "text/x-python",
   "name": "python",
   "nbconvert_exporter": "python",
   "pygments_lexer": "ipython3",
   "version": "3.9.13"
  }
 },
 "nbformat": 4,
 "nbformat_minor": 5
}
